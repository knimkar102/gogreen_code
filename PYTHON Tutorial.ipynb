{
 "cells": [
  {
   "cell_type": "code",
   "execution_count": 1,
   "metadata": {},
   "outputs": [],
   "source": [
    "# The following is a collection of part of my work this semester. It invovles reading and writing various\n",
    "# functions through a python script through a jupyter notebook. \n",
    "# The following material \n",
    "\n",
    "# To begin with, you need to chooose whether or not you want to use pandas or not.\n",
    "# Using pandas might allow you to read the data in the files better. It will allow you to read csv files.\n",
    "# If you choose to use pandas you will need to define various different functions. Some of\n",
    "# those are defined below:\n",
    "\n",
    "\n",
    "import pandas as pd\n",
    "import numpy as pd\n",
    "\n",
    "# If you choose to not use pandas you will have to define different functions at the beginning of your script. \n",
    "# of your script. These invovle using ascii and astropy. This might look like\n",
    "\n",
    "import numpy as np\n",
    "from astropy.io import ascii\n",
    "\n",
    "# To make plots you may use the following function. \n",
    "\n",
    "import matplotlib.pyplot as plt"
   ]
  },
  {
   "cell_type": "code",
   "execution_count": 2,
   "metadata": {},
   "outputs": [
    {
     "data": {
      "text/plain": [
       "[<matplotlib.lines.Line2D at 0x11c01bfd0>]"
      ]
     },
     "execution_count": 2,
     "metadata": {},
     "output_type": "execute_result"
    },
    {
     "data": {
      "image/png": "[encoded data removed]",
      "text/plain": [
       "<Figure size 432x288 with 1 Axes>"
      ]
     },
     "metadata": {
      "needs_background": "light"
     },
     "output_type": "display_data"
    }
   ],
   "source": [
    "# To begin with, I began with some simple code of plotting in PYTHON. That code includes\n",
    "# using a basic plotting function: That is seen below:\n",
    "\n",
    "import numpy as np\n",
    "import matplotlib.pyplot as plt\n",
    "\n",
    "x = np.arange(0,100,1)\n",
    "plt.plot(x, x**2,'g')"
   ]
  },
  {
   "cell_type": "code",
   "execution_count": 3,
   "metadata": {},
   "outputs": [],
   "source": [
    "# The above plot shows the graph x^2 for points that lie between zero and one hundred on the\n",
    "# horizontal axis. By defining x, I used the plt.plot function to plot x^2"
   ]
  },
  {
   "cell_type": "code",
   "execution_count": 5,
   "metadata": {},
   "outputs": [
    {
     "name": "stdout",
     "output_type": "stream",
     "text": [
      "<astropy.io.fits.hdu.table.BinTableHDU object at 0x11c097240>\n"
     ]
    },
    {
     "data": {
      "text/plain": [
       "ColDefs(\n",
       "    name = 'Cluster'; format = '15A'; disp = 'A15'\n",
       "    name = 'PHOTID'; format = '1J'; null = -2147483647; disp = 'I11'\n",
       "    name = 'SPECID'; format = '1J'; null = -2147483647; disp = 'I11'\n",
       "    name = 'EXTVER'; format = '1I'; null = -32767; disp = 'I11'\n",
       "    name = 'RA(J2000)'; format = '1E'; unit = 'deg'; disp = 'G15.7'\n",
       "    name = 'DEC(J2000)'; format = '1E'; unit = 'deg'; disp = 'G15.7'\n",
       "    name = 'ZMAG_TOTAL'; format = '1E'; disp = 'G15.7'\n",
       "    name = 'EZMAG_TOTAL'; format = '1E'; disp = 'G15.7'\n",
       "    name = 'SNR_8500_VAR'; format = '1E'; disp = 'G15.7'\n",
       "    name = 'SNR_8500_RMS'; format = '1E'; disp = 'G15.7'\n",
       "    name = 'IRAC1MAG_TOTAL'; format = '1E'; disp = 'G15.7'\n",
       "    name = 'EIRAC1MAG_TOTAL'; format = '1E'; disp = 'G15.7'\n",
       "    name = 'OBJClass'; format = '1I'; null = -32767; disp = 'I11'\n",
       "    name = 'Redshift'; format = '1E'; disp = 'G15.7'\n",
       "    name = 'Redshift_Quality'; format = '1I'; null = -32767; disp = 'I11'\n",
       "    name = 'Mass'; format = '1E'; disp = 'G15.7'\n",
       "    name = 'EMass'; format = '1E'; disp = 'G15.7'\n",
       "    name = 'D4000'; format = '1E'; disp = 'G15.7'\n",
       "    name = 'eD4000'; format = '1E'; disp = 'G15.7'\n",
       "    name = 'EWOII'; format = '1E'; disp = 'G15.7'\n",
       "    name = 'eEWOII'; format = '1E'; disp = 'G15.7'\n",
       "    name = 'EWHdelta'; format = '1E'; disp = 'G15.7'\n",
       "    name = 'eEWHdelta'; format = '1E'; disp = 'G15.7'\n",
       "    name = 'member_Clean'; format = '1E'; disp = 'G15.7'\n",
       "    name = 'member_EM'; format = '1E'; disp = 'G15.7'\n",
       ")"
      ]
     },
     "execution_count": 5,
     "metadata": {},
     "output_type": "execute_result"
    }
   ],
   "source": [
    "# My next part of code this semester was to make plots from the GOGREEN data. The\n",
    "# GOGREEN data is a data collection of 21 different galaxy clusters with a redshift range\n",
    "# between 1 < z < 1.5. \n",
    "\n",
    "# In order to properly use the GOGREEN data, it must be put in the correct readable data \n",
    "# format. For me, I did not use pandas so nothing was csv format. It was all in fits files. \n",
    "# Below I show a piece of the GOGREEN data. You will notice that I used fits to open the \n",
    "# fits file. You will also notice how I am able to access my data through various folders.\n",
    "\n",
    "from astropy.io import fits\n",
    "GOGREENDATA = fits.open('./v1.0/spectroscopy/cats/GOGREEN_goodz_zcat_v1.0.fits')\n",
    "print(GOGREENDATA[1])\n",
    "GOGREENDATA[1].columns"
   ]
  },
  {
   "cell_type": "code",
   "execution_count": 6,
   "metadata": {},
   "outputs": [
    {
     "data": {
      "text/plain": [
       "1550"
      ]
     },
     "execution_count": 6,
     "metadata": {},
     "output_type": "execute_result"
    }
   ],
   "source": [
    "# Make a data file of the GOGREENDATA\n",
    "RedshiftData = GOGREENDATA[1].columns\n",
    "\n",
    "# Since the data is read in \n",
    "catdata = GOGREENDATA[1].data\n",
    "\n",
    "z = catdata['Redshift']\n",
    "SpecID = catdata['SPECID']\n",
    "len(z)"
   ]
  },
  {
   "cell_type": "code",
   "execution_count": 7,
   "metadata": {},
   "outputs": [
    {
     "data": {
      "image/png": "[encoded data removed]",
      "text/plain": [
       "<Figure size 432x288 with 1 Axes>"
      ]
     },
     "metadata": {
      "needs_background": "light"
     },
     "output_type": "display_data"
    }
   ],
   "source": [
    "nbins = int(100)\n",
    "hist = plt.hist(z, bins = nbins)\n",
    "plt.show()"
   ]
  },
  {
   "cell_type": "code",
   "execution_count": 8,
   "metadata": {},
   "outputs": [],
   "source": [
    "# The above plot of redshift (horizontal axis) versus number of objects(vertical axis)"
   ]
  },
  {
   "cell_type": "code",
   "execution_count": 12,
   "metadata": {},
   "outputs": [
    {
     "name": "stderr",
     "output_type": "stream",
     "text": [
      "/Users/k537n315/anaconda3/lib/python3.7/site-packages/ipykernel_launcher.py:1: RuntimeWarning: invalid value encountered in less\n",
      "  \"\"\"Entry point for launching an IPython kernel.\n"
     ]
    },
    {
     "data": {
      "image/png": "[encoded data removed]",
      "text/plain": [
       "<Figure size 432x288 with 1 Axes>"
      ]
     },
     "metadata": {
      "needs_background": "light"
     },
     "output_type": "display_data"
    }
   ],
   "source": [
    "igoodz = np.where(catdata['ZMAG_TOTAL']<50.)\n",
    "zmagVSred = plt.scatter(catdata['Redshift'][igoodz],catdata['ZMAG_TOTAL'][igoodz])\n",
    "plt.xtitle = 'redshift'\n",
    "plt.ytitle = 'magnitude'\n",
    "plt.show()"
   ]
  },
  {
   "cell_type": "code",
   "execution_count": 10,
   "metadata": {},
   "outputs": [],
   "source": [
    "# The above diagram shows a diagram of magnitude versus redshift for a group of \n",
    "# multiple objects"
   ]
  },
  {
   "cell_type": "code",
   "execution_count": 13,
   "metadata": {},
   "outputs": [],
   "source": [
    "# The next process shows making color - color diagrams. We first start by defining the \n",
    "# the following function commands:\n",
    "import numpy as np\n",
    "from astropy.io import ascii\n",
    "from astropy.io import fits\n",
    "from astropy.table import Table\n",
    "import matplotlib.pyplot as plt\n"
   ]
  },
  {
   "cell_type": "code",
   "execution_count": 14,
   "metadata": {},
   "outputs": [],
   "source": [
    "# We then identify our data within the catelogs and assign them names \n",
    "# to read.\n",
    "\n",
    "clustname = 'SPTCL-0546'\n",
    "photext = 'FOURSTARKs'\n",
    "\n",
    "# In particular I have decided to read into the \n",
    "zclust = 1.132\n",
    "\n",
    "dz = 0.4"
   ]
  },
  {
   "cell_type": "code",
   "execution_count": null,
   "metadata": {},
   "outputs": [],
   "source": [
    "# Then we must define a function along with a critieron in order to read into the \n",
    "# catelogs themselves. This looks like:\n"
   ]
  }
 ],
 "metadata": {
  "kernelspec": {
   "display_name": "Python 3",
   "language": "python",
   "name": "python3"
  },
  "language_info": {
   "codemirror_mode": {
    "name": "ipython",
    "version": 3
   },
   "file_extension": ".py",
   "mimetype": "text/x-python",
   "name": "python",
   "nbconvert_exporter": "python",
   "pygments_lexer": "ipython3",
   "version": "3.7.1"
  }
 },
 "nbformat": 4,
 "nbformat_minor": 2
}
